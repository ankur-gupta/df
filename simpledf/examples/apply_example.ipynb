{
 "cells": [
  {
   "cell_type": "code",
   "execution_count": 1,
   "metadata": {
    "collapsed": false
   },
   "outputs": [],
   "source": [
    "import simpledf as sdf\n",
    "import pandas as pd\n",
    "import numpy as np"
   ]
  },
  {
   "cell_type": "code",
   "execution_count": 2,
   "metadata": {
    "collapsed": true
   },
   "outputs": [],
   "source": [
    "def custom_function(x):\n",
    "    ''' A custom function that is applied to each grouped dataframe.\n",
    "    \n",
    "            Args:\n",
    "                x (pd.DataFrame): dataframe\n",
    "            Returns:\n",
    "                pd.DataFrame\n",
    "        \n",
    "    '''\n",
    "    print(x)\n",
    "    print\n",
    "    # Note that adding a new column to the input dataframe x\n",
    "    # causes a copy of the dataframe. This should usually give you \n",
    "    # a SettingWithCopyWarning. To avoid this warning, you can manually\n",
    "    # copy x first by uncommenting the line below.\n",
    "    # x = x.copy()\n",
    "    x['Mean'] = np.mean(x['Data'].values)\n",
    "    out = x[['Mean', 'Group']].iloc[0, :].copy(deep=True)\n",
    "    return out"
   ]
  },
  {
   "cell_type": "markdown",
   "metadata": {},
   "source": [
    "## Create a dummy dataframe for demo\n",
    "#### There are two groups in the GroupBy object. "
   ]
  },
  {
   "cell_type": "code",
   "execution_count": 3,
   "metadata": {
    "collapsed": false
   },
   "outputs": [
    {
     "name": "stdout",
     "output_type": "stream",
     "text": [
      "   Data   Group\n",
      "0     1  Group1\n",
      "1     2  Group2\n",
      "2     3  Group2\n"
     ]
    }
   ],
   "source": [
    "data = [1, 2, 3]\n",
    "groups = ['Group1', 'Group2', 'Group2']\n",
    "testdf = pd.DataFrame.from_dict({'Data': data, 'Group': groups})\n",
    "grpby = testdf.groupby(['Group'])\n",
    "print testdf"
   ]
  },
  {
   "cell_type": "markdown",
   "metadata": {},
   "source": [
    "## Use `apply()` from `pandas`\n",
    "Note:\n",
    "1. There are more than 2 dataframes printed even though there are only two groups in the GroupBy object.\n",
    "2. The third dataframe printed has an extra column! (this happens if you do not manually copy the dataframe in `custom_function`.\n",
    "\n",
    "See https://github.com/pydata/pandas/issues/13913#issuecomment-237918909"
   ]
  },
  {
   "cell_type": "code",
   "execution_count": 4,
   "metadata": {
    "collapsed": false
   },
   "outputs": [
    {
     "name": "stdout",
     "output_type": "stream",
     "text": [
      "   Data   Group\n",
      "0     1  Group1\n",
      "\n",
      "   Data   Group\n",
      "0     1  Group1\n",
      "\n",
      "   Data   Group  Mean\n",
      "1     2  Group2   1.0\n",
      "2     3  Group2      \n",
      "\n",
      "   Data   Group\n",
      "0     1  Group1\n",
      "\n",
      "   Data   Group\n",
      "1     2  Group2\n",
      "2     3  Group2\n",
      "\n"
     ]
    }
   ],
   "source": [
    "# Third dataframe in this output has an extra column!\n",
    "result_pandas = grpby.apply(custom_function)"
   ]
  },
  {
   "cell_type": "markdown",
   "metadata": {},
   "source": [
    "## Use `apply` from `simpledf`\n",
    "Note that exactly 2 dataframes are printed as expected.\n",
    "The warning below may be removed by manually copying the input dataframe inside `custom_function`. "
   ]
  },
  {
   "cell_type": "code",
   "execution_count": 5,
   "metadata": {
    "collapsed": false
   },
   "outputs": [
    {
     "name": "stdout",
     "output_type": "stream",
     "text": [
      "   Data   Group\n",
      "0     1  Group1\n",
      "\n",
      "   Data   Group\n",
      "1     2  Group2\n",
      "2     3  Group2\n",
      "\n"
     ]
    },
    {
     "name": "stderr",
     "output_type": "stream",
     "text": [
      "/Users/ankur/anaconda/lib/python2.7/site-packages/ipykernel/__main__.py:17: SettingWithCopyWarning: \n",
      "A value is trying to be set on a copy of a slice from a DataFrame.\n",
      "Try using .loc[row_indexer,col_indexer] = value instead\n",
      "\n",
      "See the caveats in the documentation: http://pandas.pydata.org/pandas-docs/stable/indexing.html#indexing-view-versus-copy\n"
     ]
    }
   ],
   "source": [
    "result_simpledf = sdf.apply(grpby, custom_function)"
   ]
  }
 ],
 "metadata": {
  "kernelspec": {
   "display_name": "Python 2",
   "language": "python",
   "name": "python2"
  },
  "language_info": {
   "codemirror_mode": {
    "name": "ipython",
    "version": 2
   },
   "file_extension": ".py",
   "mimetype": "text/x-python",
   "name": "python",
   "nbconvert_exporter": "python",
   "pygments_lexer": "ipython2",
   "version": "2.7.12"
  }
 },
 "nbformat": 4,
 "nbformat_minor": 0
}
